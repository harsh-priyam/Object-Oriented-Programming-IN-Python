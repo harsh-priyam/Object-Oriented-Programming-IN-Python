{
 "cells": [
  {
   "cell_type": "code",
   "execution_count": 1,
   "id": "ded40b5f-c414-4bed-a770-caa2443210b4",
   "metadata": {},
   "outputs": [],
   "source": [
    "# Single Level Inheritance -:"
   ]
  },
  {
   "cell_type": "code",
   "execution_count": 10,
   "id": "16fe5e41-9845-45e9-951e-3c10fcc7aa3e",
   "metadata": {},
   "outputs": [],
   "source": [
    "# class Phone:\n",
    "#     def __init__(self,price,brand,model):\n",
    "#         print(\"Inside phone constructor\")\n",
    "#         self.__price = price\n",
    "#         self.brand = brand\n",
    "#         self.model = model\n",
    "\n",
    "#     def buy(self):\n",
    "#         print(\"Buying a phone\")\n",
    "\n",
    "#     def return_phone(self):\n",
    "#         print(\"Returning a phone\")\n",
    "# class SmartPhone(Phone):\n",
    "#     pass\n",
    "\n",
    "# St = SmartPhone(28000,'Samsung','S9')\n",
    "        "
   ]
  },
  {
   "cell_type": "code",
   "execution_count": 11,
   "id": "e7fe1978-1450-49e4-84d6-f1e305714fa6",
   "metadata": {},
   "outputs": [],
   "source": [
    "# Multi Level Inheritance -:"
   ]
  },
  {
   "cell_type": "code",
   "execution_count": 13,
   "id": "bacc5796-661d-4444-a214-6cf07fee95b4",
   "metadata": {},
   "outputs": [
    {
     "name": "stdout",
     "output_type": "stream",
     "text": [
      "Inside Smart Phone Constructor\n"
     ]
    }
   ],
   "source": [
    "class Phone:\n",
    "    def buy(self):\n",
    "        print(\"Buying a phone\")\n",
    "\n",
    "    def return_phone(self):\n",
    "        print(\"Returning a phone\")\n",
    "\n",
    "class SmartPhone(Phone):\n",
    "    def __init__(self,camera,screen):\n",
    "        print(\"Inside Smart Phone Constructor\")\n",
    "        self.camera = camera\n",
    "        self.screen = screen\n",
    "    def Camera(self):\n",
    "        print(\"Camera Working\")\n",
    "    def Screen(self):\n",
    "        print(\"4k Display Working\")\n",
    "\n",
    "class Android(SmartPhone):\n",
    "    pass\n",
    "\n",
    "a = Android(20,'AMOLED')"
   ]
  },
  {
   "cell_type": "code",
   "execution_count": 15,
   "id": "6cbc2de6-39b5-40cb-aa3e-12697db44395",
   "metadata": {},
   "outputs": [
    {
     "name": "stdout",
     "output_type": "stream",
     "text": [
      "Returning a phone\n"
     ]
    }
   ],
   "source": [
    "a.return_phone()"
   ]
  },
  {
   "cell_type": "code",
   "execution_count": 16,
   "id": "91497dc6-3a93-4274-9720-f052fd5c0d42",
   "metadata": {},
   "outputs": [],
   "source": [
    "# Hierarchical Inheritance"
   ]
  },
  {
   "cell_type": "code",
   "execution_count": 18,
   "id": "b0a8a86d-b658-4cae-8229-4338b2d8dbef",
   "metadata": {},
   "outputs": [
    {
     "name": "stdout",
     "output_type": "stream",
     "text": [
      "Inside phone constructor\n",
      "Buying a phone\n"
     ]
    }
   ],
   "source": [
    "class Phone:\n",
    "    def __init__(self,price,brand,camera):\n",
    "        print(\"Inside phone constructor\")\n",
    "        self.__price = price\n",
    "        self.brand = brand\n",
    "        self.camera = camera\n",
    "\n",
    "    def buy(self):\n",
    "        print(\"Buying a phone\")\n",
    "\n",
    "    def return_phone(self):\n",
    "        print(\"Returning a phone\")\n",
    "\n",
    "class SmartPhone(Phone):\n",
    "    pass\n",
    "\n",
    "class FeaturePhone(Phone):\n",
    "    pass\n",
    "\n",
    "SmartPhone(10000,'Apple','13px').buy()"
   ]
  },
  {
   "cell_type": "code",
   "execution_count": 19,
   "id": "d7b828fd-3c6a-4af1-a350-cff1efe3ddc2",
   "metadata": {},
   "outputs": [],
   "source": [
    "# Multiple Inheritance"
   ]
  },
  {
   "cell_type": "code",
   "execution_count": 42,
   "id": "f3c3e10c-00a9-45ea-a612-51fe83e2a144",
   "metadata": {},
   "outputs": [],
   "source": [
    "class Papa:\n",
    "    def __init__(self,salary,turnover):\n",
    "        print(\"Inside Papa Constructor\")\n",
    "        self.__salary = salary\n",
    "        self.__turnover = turnover\n",
    "        \n",
    "    def Job(self):\n",
    "        print(\"Its Papa's Job\")\n",
    "        \n",
    "    def Property(self):\n",
    "        print(\"Its My Property\")\n",
    "\n",
    "class Mummy:\n",
    "    def __init__(self,salary,food):\n",
    "        print(\"Inside Mummy Constructor\")\n",
    "        self.__food = food\n",
    "        self.__salary = salary\n",
    "\n",
    "    def Job(self):\n",
    "        print(\"Its Mummy's Job\")\n",
    "        \n",
    "    def Kitchen(self):\n",
    "        print(\"Its My Kitchen\")\n",
    "\n",
    "\n",
    "        \n",
    "# class Son(Papa,Mummy):\n",
    "#     pass\n",
    "\n",
    "class Son(Mummy,Papa):\n",
    "    pass"
   ]
  },
  {
   "cell_type": "code",
   "execution_count": 43,
   "id": "795e833f-d957-4d44-8ee0-b2f41d35a6c2",
   "metadata": {},
   "outputs": [
    {
     "name": "stdout",
     "output_type": "stream",
     "text": [
      "Inside Mummy Constructor\n"
     ]
    }
   ],
   "source": [
    "s = Son(400000,'burger')"
   ]
  },
  {
   "cell_type": "code",
   "execution_count": 44,
   "id": "a6f47694-e4e6-4f02-9b31-2d840d53e757",
   "metadata": {},
   "outputs": [
    {
     "name": "stdout",
     "output_type": "stream",
     "text": [
      "Its Mummy's Job\n"
     ]
    }
   ],
   "source": [
    "s.Job()"
   ]
  },
  {
   "cell_type": "code",
   "execution_count": 45,
   "id": "4934d492-23f4-4926-9da8-567435d3719a",
   "metadata": {},
   "outputs": [],
   "source": [
    "# Exercises"
   ]
  },
  {
   "cell_type": "code",
   "execution_count": 48,
   "id": "d697a42e-3c73-4614-b091-3d4627abeb51",
   "metadata": {},
   "outputs": [
    {
     "name": "stdout",
     "output_type": "stream",
     "text": [
      "150\n"
     ]
    }
   ],
   "source": [
    "class A:\n",
    "\n",
    "    def m1(self):\n",
    "        return 20\n",
    "    \n",
    "class B(A):\n",
    "\n",
    "    def m1(self):\n",
    "        return 30\n",
    "\n",
    "    def m2(self):\n",
    "        return 20\n",
    "\n",
    "class C(B):\n",
    "\n",
    "    def m2(self):\n",
    "        return 100\n",
    "\n",
    "obj1 = A()\n",
    "obj2 = B()\n",
    "obj3 = C()\n",
    "print(obj1.m1()+ obj3.m1()+ obj3.m2())\n",
    "    "
   ]
  },
  {
   "cell_type": "code",
   "execution_count": null,
   "id": "47cfaa20-daba-48df-b0f1-9d6faf69ece3",
   "metadata": {},
   "outputs": [],
   "source": [
    "class A:\n",
    "    def m1(self):\n",
    "        return 20\n",
    "\n",
    "class B(A):\n",
    "    def m1(self):\n",
    "        val = super().m1()+30\n",
    "        return val\n",
    "\n",
    "class C(B):\n",
    "    def m1(self):\n",
    "        val = self.m1()+20\n",
    "        return val\n",
    "\n",
    "obj = C()\n",
    "print(obj.m1())"
   ]
  },
  {
   "cell_type": "code",
   "execution_count": 1,
   "id": "e9d0990a-3ef8-4cd1-a47a-eb0008a13ebd",
   "metadata": {},
   "outputs": [],
   "source": [
    "# Recurssion Error as in class C , m1 it will again & again call as self is the obj"
   ]
  },
  {
   "cell_type": "code",
   "execution_count": null,
   "id": "a8fadd04-97dc-4ce4-9c73-4583716efdc5",
   "metadata": {},
   "outputs": [],
   "source": []
  }
 ],
 "metadata": {
  "kernelspec": {
   "display_name": "Python 3 (ipykernel)",
   "language": "python",
   "name": "python3"
  },
  "language_info": {
   "codemirror_mode": {
    "name": "ipython",
    "version": 3
   },
   "file_extension": ".py",
   "mimetype": "text/x-python",
   "name": "python",
   "nbconvert_exporter": "python",
   "pygments_lexer": "ipython3",
   "version": "3.9.7"
  }
 },
 "nbformat": 4,
 "nbformat_minor": 5
}
