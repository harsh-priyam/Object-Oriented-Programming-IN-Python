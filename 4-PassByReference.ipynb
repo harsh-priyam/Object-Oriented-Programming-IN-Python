{
 "cells": [
  {
   "cell_type": "code",
   "execution_count": 5,
   "id": "f5550a57-c5d8-4de1-b74f-6d9d2496c7aa",
   "metadata": {},
   "outputs": [
    {
     "name": "stdout",
     "output_type": "stream",
     "text": [
      "Hello Aditi Mam\n",
      "Harsh\n"
     ]
    }
   ],
   "source": [
    "class Customer:\n",
    "    def __init__(self,name,gender):\n",
    "        self.name = name\n",
    "        self.gender = gender\n",
    "def greet(customer):\n",
    "  if customer.gender == \"Male\":\n",
    "    print(\"Hello\",customer.name,\"Sir\")\n",
    "  else:\n",
    "    print(\"Hello\",customer.name,\"Mam\")\n",
    "\n",
    "  cust2 = Customer(\"Harsh\",\"Male\")\n",
    "  return cust2\n",
    "\n",
    "cust = Customer(\"Aditi\",\"Female\")\n",
    "new_cust = greet(cust)\n",
    "print(new_cust.name)"
   ]
  },
  {
   "cell_type": "code",
   "execution_count": 11,
   "id": "8c686d9d-951f-4310-ab03-118e51c48ff1",
   "metadata": {},
   "outputs": [
    {
     "name": "stdout",
     "output_type": "stream",
     "text": [
      "2628037268432\n",
      "2628037268432\n"
     ]
    }
   ],
   "source": [
    "class Customer:\n",
    "    def __init__(self,name):\n",
    "        self.name = name\n",
    "        \n",
    "def greet(customer):\n",
    "    print(id(customer))\n",
    "\n",
    "cust = Customer(\"Aditi\")\n",
    "print(id(cust))\n",
    "\n",
    "greet(cust)"
   ]
  },
  {
   "cell_type": "code",
   "execution_count": 19,
   "id": "7bdd6f7a-adc6-4788-831c-eac4e0e432ec",
   "metadata": {},
   "outputs": [
    {
     "name": "stdout",
     "output_type": "stream",
     "text": [
      "2628037547536\n",
      "Harsh\n",
      "2628037547536\n",
      "Harsh\n"
     ]
    }
   ],
   "source": [
    "class Customer:\n",
    "    def __init__(self,name):\n",
    "        self.name = name\n",
    "        \n",
    "def greet(customer):\n",
    "    customer.name = \"Harsh\"\n",
    "    print(customer.name)\n",
    "    print(id(customer))\n",
    "    \n",
    "cust = Customer(\"Aditi\")\n",
    "print(id(cust))\n",
    "greet(cust)\n",
    "print(cust.name)"
   ]
  },
  {
   "cell_type": "code",
   "execution_count": 20,
   "id": "9bc0a8d7-dbbd-4aa8-91fa-ed0bf39bb351",
   "metadata": {},
   "outputs": [],
   "source": [
    "# class ke objects are also mutable like lists, dict , and sets "
   ]
  },
  {
   "cell_type": "code",
   "execution_count": 24,
   "id": "15538577-e1a1-4e43-8ce7-9aa2a1ac41ac",
   "metadata": {},
   "outputs": [
    {
     "name": "stdout",
     "output_type": "stream",
     "text": [
      "2628058310080\n",
      "[1, 2, 3, 4]\n",
      "2628037432960\n",
      "2628037432960\n",
      "[1, 2, 3, 4]\n"
     ]
    }
   ],
   "source": [
    "def change(L):\n",
    "    print(id(L))\n",
    "    L.append(5)\n",
    "    print(id(L))\n",
    "\n",
    "L1 = [1,2,3,4]\n",
    "print(id(L1))\n",
    "print(L1)\n",
    "\n",
    "change(L1[:])  #cloning\n",
    "print(L1)"
   ]
  },
  {
   "cell_type": "code",
   "execution_count": null,
   "id": "3a6a1f81-f2b9-4078-9939-dc8f71158232",
   "metadata": {},
   "outputs": [],
   "source": []
  }
 ],
 "metadata": {
  "kernelspec": {
   "display_name": "Python 3 (ipykernel)",
   "language": "python",
   "name": "python3"
  },
  "language_info": {
   "codemirror_mode": {
    "name": "ipython",
    "version": 3
   },
   "file_extension": ".py",
   "mimetype": "text/x-python",
   "name": "python",
   "nbconvert_exporter": "python",
   "pygments_lexer": "ipython3",
   "version": "3.9.7"
  }
 },
 "nbformat": 4,
 "nbformat_minor": 5
}
