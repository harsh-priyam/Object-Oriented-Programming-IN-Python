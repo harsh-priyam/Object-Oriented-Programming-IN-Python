{
 "cells": [
  {
   "cell_type": "code",
   "execution_count": 6,
   "id": "5e85f1ce-950d-47f8-9a5d-ee2d66a605d8",
   "metadata": {},
   "outputs": [
    {
     "name": "stdout",
     "output_type": "stream",
     "text": [
      "I am Harsh and I am 23\n",
      "I am Priyam and I am 22\n",
      "I am Ajit and I am 32\n"
     ]
    }
   ],
   "source": [
    "class Customer:\n",
    "    def __init__(self,name,age):\n",
    "        self.name = name\n",
    "        self.age = age\n",
    "\n",
    "    def intro(self):\n",
    "        print(\"I am\",self.name,\"and I am\",self.age)\n",
    "\n",
    "c1 = Customer(\"Harsh\",23)\n",
    "c2 = Customer(\"Priyam\",22)\n",
    "c3 = Customer(\"Ajit\",32)\n",
    "\n",
    "L = [c1,c2,c3]\n",
    "\n",
    "for i in L:\n",
    "    # print(i.name,i.age)\n",
    "    i.intro()"
   ]
  },
  {
   "cell_type": "code",
   "execution_count": null,
   "id": "3f0440bf-98e3-4368-af26-7e3f3f766ad2",
   "metadata": {},
   "outputs": [],
   "source": []
  }
 ],
 "metadata": {
  "kernelspec": {
   "display_name": "Python 3 (ipykernel)",
   "language": "python",
   "name": "python3"
  },
  "language_info": {
   "codemirror_mode": {
    "name": "ipython",
    "version": 3
   },
   "file_extension": ".py",
   "mimetype": "text/x-python",
   "name": "python",
   "nbconvert_exporter": "python",
   "pygments_lexer": "ipython3",
   "version": "3.9.7"
  }
 },
 "nbformat": 4,
 "nbformat_minor": 5
}
