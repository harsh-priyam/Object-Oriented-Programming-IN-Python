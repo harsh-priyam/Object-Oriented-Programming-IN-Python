{
 "cells": [
  {
   "cell_type": "code",
   "execution_count": 1,
   "id": "b425beb0-ed5d-4d9d-b721-a2e13d8fde4d",
   "metadata": {},
   "outputs": [
    {
     "name": "stdout",
     "output_type": "stream",
     "text": [
      "Inside phone constructor\n",
      "Buying a smartphone\n"
     ]
    }
   ],
   "source": [
    "class Phone:\n",
    "    def __init__(self,price,brand,camera):\n",
    "\n",
    "        print(\"Inside phone constructor\")\n",
    "        self.__price = price\n",
    "        self.brand = brand\n",
    "        self.camera = camera\n",
    "\n",
    "    def buy(self):\n",
    "        print(\"Buying a phone\")\n",
    "\n",
    "class SmartPhone(Phone):\n",
    "\n",
    "    def buy(self):\n",
    "        print(\"Buying a smartphone\")\n",
    "\n",
    "s = SmartPhone(200000,\"Apple\",13)\n",
    "\n",
    "s.buy()"
   ]
  },
  {
   "cell_type": "code",
   "execution_count": 2,
   "id": "df5a9815-4286-4fe4-b991-ae1d17fe2322",
   "metadata": {},
   "outputs": [],
   "source": [
    "# Example -: 02"
   ]
  },
  {
   "cell_type": "code",
   "execution_count": 3,
   "id": "350ac501-0b32-4857-bf1c-1a52470b9a3d",
   "metadata": {},
   "outputs": [
    {
     "name": "stdout",
     "output_type": "stream",
     "text": [
      "100\n",
      "This is in child class\n"
     ]
    }
   ],
   "source": [
    "class Parent:\n",
    "    def __init__(self,num):\n",
    "        self.__num = num\n",
    "    def get_num(self):\n",
    "        return self.__num\n",
    "class Child(Parent):\n",
    "\n",
    "    def show(self):\n",
    "        print(\"This is in child class\")\n",
    "\n",
    "son = Child(100)\n",
    "print(son.get_num())\n",
    "son.show()"
   ]
  },
  {
   "cell_type": "code",
   "execution_count": 4,
   "id": "ad1f15c2-29b5-4b4c-a9d0-7edaf162d283",
   "metadata": {},
   "outputs": [],
   "source": [
    " # Example -: 03"
   ]
  },
  {
   "cell_type": "code",
   "execution_count": 5,
   "id": "03e30ed4-0e51-4644-9bea-5ccdf203f7af",
   "metadata": {},
   "outputs": [
    {
     "ename": "AttributeError",
     "evalue": "'Child' object has no attribute '_Parent__num'",
     "output_type": "error",
     "traceback": [
      "\u001b[1;31m---------------------------------------------------------------------------\u001b[0m",
      "\u001b[1;31mAttributeError\u001b[0m                            Traceback (most recent call last)",
      "Cell \u001b[1;32mIn[5], line 13\u001b[0m\n\u001b[0;32m     11\u001b[0m         \u001b[38;5;28;01mreturn\u001b[39;00m \u001b[38;5;28mself\u001b[39m\u001b[38;5;241m.\u001b[39m__val\n\u001b[0;32m     12\u001b[0m son \u001b[38;5;241m=\u001b[39m Child(\u001b[38;5;241m100\u001b[39m,\u001b[38;5;241m10\u001b[39m)\n\u001b[1;32m---> 13\u001b[0m \u001b[38;5;28mprint\u001b[39m(\u001b[38;5;124m\"\u001b[39m\u001b[38;5;124mParent: Num:\u001b[39m\u001b[38;5;124m\"\u001b[39m,\u001b[43mson\u001b[49m\u001b[38;5;241;43m.\u001b[39;49m\u001b[43mget_num\u001b[49m\u001b[43m(\u001b[49m\u001b[43m)\u001b[49m)\n",
      "Cell \u001b[1;32mIn[5], line 5\u001b[0m, in \u001b[0;36mParent.get_num\u001b[1;34m(self)\u001b[0m\n\u001b[0;32m      4\u001b[0m \u001b[38;5;28;01mdef\u001b[39;00m \u001b[38;5;21mget_num\u001b[39m(\u001b[38;5;28mself\u001b[39m):\n\u001b[1;32m----> 5\u001b[0m     \u001b[38;5;28;01mreturn\u001b[39;00m \u001b[38;5;28;43mself\u001b[39;49m\u001b[38;5;241;43m.\u001b[39;49m\u001b[43m__num\u001b[49m\n",
      "\u001b[1;31mAttributeError\u001b[0m: 'Child' object has no attribute '_Parent__num'"
     ]
    }
   ],
   "source": [
    "class Parent:\n",
    "    def __init__(self,num):\n",
    "        self.__num = num\n",
    "    def get_num(self):\n",
    "        return self.__num\n",
    "\n",
    "class Child(Parent):\n",
    "    def __init__(self,val,num):\n",
    "        self.__val = val\n",
    "    def get_val(self):\n",
    "        return self.__val\n",
    "son = Child(100,10)\n",
    "print(\"Parent: Num:\",son.get_num())"
   ]
  },
  {
   "cell_type": "code",
   "execution_count": 6,
   "id": "08dacce6-8a09-4356-9ad4-053335de6d8e",
   "metadata": {},
   "outputs": [],
   "source": [
    "# Example -: 04"
   ]
  },
  {
   "cell_type": "code",
   "execution_count": 7,
   "id": "c2b0a2c0-c088-4115-8228-9213514edac2",
   "metadata": {},
   "outputs": [
    {
     "name": "stdout",
     "output_type": "stream",
     "text": [
      "Class A: 100\n"
     ]
    }
   ],
   "source": [
    "class A:\n",
    "    def __init__(self):\n",
    "        self.var1 = 100\n",
    "        \n",
    "    def display1(self,var1):\n",
    "        print(\"Class A:\",self.var1)\n",
    "\n",
    "class B(A):\n",
    "    def display2(self,var1):\n",
    "        print(\"Class B: \",self.var1)\n",
    "\n",
    "\n",
    "obj = B()\n",
    "obj.display1(200)"
   ]
  },
  {
   "cell_type": "code",
   "execution_count": 8,
   "id": "4f5e2c3d-463b-4c0d-8d14-f72cdaa70c6f",
   "metadata": {},
   "outputs": [],
   "source": [
    "### ~~~~~~~~~~~~~~~ SUPER KEYWORD ~~~~~~~~~~~~~~~~~ ###"
   ]
  },
  {
   "cell_type": "code",
   "execution_count": 9,
   "id": "f6bfcc23-6031-49c2-a75f-3c71c1e9894e",
   "metadata": {},
   "outputs": [
    {
     "name": "stdout",
     "output_type": "stream",
     "text": [
      "Inside Phone Constructor\n",
      "Buying a smartphone\n",
      "Buying a phone\n"
     ]
    }
   ],
   "source": [
    "class Phone:\n",
    "    def __init__(self,price,brand,camera):\n",
    "        print(\"Inside Phone Constructor\")\n",
    "        self.__price = price\n",
    "        self.brand = brand\n",
    "        self.camera = camera\n",
    "\n",
    "    def buy(self):\n",
    "        print(\"Buying a phone\")\n",
    "\n",
    "class SmartPhone(Phone):\n",
    "\n",
    "    def buy(self):\n",
    "        print(\"Buying a smartphone\")\n",
    "        super().buy()\n",
    "\n",
    "s = SmartPhone(200000,\"Apple\",13)\n",
    "s.buy()"
   ]
  },
  {
   "cell_type": "code",
   "execution_count": 10,
   "id": "864c0528-5d9b-4359-adfb-e6c004f7cbe7",
   "metadata": {},
   "outputs": [],
   "source": [
    "# Example -: 02"
   ]
  },
  {
   "cell_type": "code",
   "execution_count": 11,
   "id": "70d60ba4-c42f-4eca-ad5c-f56383437002",
   "metadata": {},
   "outputs": [
    {
     "name": "stdout",
     "output_type": "stream",
     "text": [
      "Code Starts from here\n",
      "Inside phone constructor\n",
      "Inside smartphone constructor\n",
      "Android\n",
      "Samsung\n"
     ]
    }
   ],
   "source": [
    "class Phone:\n",
    "    def __init__(self,price,brand,camera):\n",
    "        print(\"Inside phone constructor\")\n",
    "        self.__price = price\n",
    "        self.brand = brand\n",
    "        self.camera = camera\n",
    "\n",
    "class SmartPhone(Phone):\n",
    "    def __init__(self,price,brand,camera,os,ram):\n",
    "        print(\"Code Starts from here\")\n",
    "        super().__init__(price,brand,camera)\n",
    "        self.os = os\n",
    "        self.ram = ram\n",
    "        print(\"Inside smartphone constructor\")\n",
    "\n",
    "s = SmartPhone(200000,\"Samsung\",12,\"Android\",2)\n",
    "\n",
    "print(s.os)\n",
    "print(s.brand)"
   ]
  },
  {
   "cell_type": "code",
   "execution_count": 12,
   "id": "34726886-0513-490c-b867-c4dfa6998144",
   "metadata": {},
   "outputs": [],
   "source": [
    "# Example -: 03"
   ]
  },
  {
   "cell_type": "code",
   "execution_count": 15,
   "id": "a0a84702-5fc5-4063-9d35-bd3d31004962",
   "metadata": {},
   "outputs": [
    {
     "name": "stdout",
     "output_type": "stream",
     "text": [
      "100\n",
      "200\n"
     ]
    }
   ],
   "source": [
    "class Parent:\n",
    "    def __init__(self,num):\n",
    "        self.__num = num\n",
    "\n",
    "    def get_num(self):\n",
    "        return self.__num\n",
    "\n",
    "class Child(Parent):\n",
    "\n",
    "    def __init__(self,num,val):\n",
    "        super().__init__(num)\n",
    "        self.__val = val\n",
    "\n",
    "    def get_val(self):\n",
    "        return self.__val\n",
    "\n",
    "son = Child(100,200)\n",
    "print(son.get_num())\n",
    "print(son.get_val())"
   ]
  },
  {
   "cell_type": "code",
   "execution_count": 16,
   "id": "d1c5573d-1514-4b9c-8760-3f2eb01aae94",
   "metadata": {},
   "outputs": [],
   "source": [
    "# Example -: 04"
   ]
  },
  {
   "cell_type": "code",
   "execution_count": 14,
   "id": "698f47cf-75e9-4b2b-b5ef-48e83cd36c8d",
   "metadata": {},
   "outputs": [
    {
     "name": "stdout",
     "output_type": "stream",
     "text": [
      "100\n",
      "200\n"
     ]
    }
   ],
   "source": [
    "class Parent:\n",
    "    def __init__(self):\n",
    "        self.num = 100\n",
    "\n",
    "class Child(Parent):\n",
    "    def __init__(self):\n",
    "        super().__init__()\n",
    "        self.var=200\n",
    "    def show(self):\n",
    "        print(self.num)\n",
    "        print(self.var)\n",
    "\n",
    "son = Child()\n",
    "son.show()"
   ]
  },
  {
   "cell_type": "code",
   "execution_count": 17,
   "id": "54b571db-be54-4d3f-a0c0-617163c6ab83",
   "metadata": {},
   "outputs": [],
   "source": [
    "# Example -: 05"
   ]
  },
  {
   "cell_type": "code",
   "execution_count": 18,
   "id": "ecf52869-1980-482b-8144-0463465f7b9f",
   "metadata": {},
   "outputs": [
    {
     "name": "stdout",
     "output_type": "stream",
     "text": [
      "Parent 100\n",
      "Child 10\n"
     ]
    }
   ],
   "source": [
    "class Parent:\n",
    "    def __init__(self):\n",
    "        self.__num = 100\n",
    "    \n",
    "    def show(self):\n",
    "        print(\"Parent\",self.__num)\n",
    "\n",
    "class Child(Parent):\n",
    "    def __init__(self):\n",
    "        super().__init__()\n",
    "        self.__var = 10\n",
    "\n",
    "    def show(self):\n",
    "        print(\"Child\",self.__var)\n",
    "\n",
    "dad = Parent()\n",
    "dad.show()\n",
    "son = Child()\n",
    "son.show()\n",
    "    "
   ]
  },
  {
   "cell_type": "code",
   "execution_count": null,
   "id": "5e53868b-2cba-473a-82eb-3bb9d4eb27ba",
   "metadata": {},
   "outputs": [],
   "source": []
  }
 ],
 "metadata": {
  "kernelspec": {
   "display_name": "Python 3 (ipykernel)",
   "language": "python",
   "name": "python3"
  },
  "language_info": {
   "codemirror_mode": {
    "name": "ipython",
    "version": 3
   },
   "file_extension": ".py",
   "mimetype": "text/x-python",
   "name": "python",
   "nbconvert_exporter": "python",
   "pygments_lexer": "ipython3",
   "version": "3.9.7"
  }
 },
 "nbformat": 4,
 "nbformat_minor": 5
}
