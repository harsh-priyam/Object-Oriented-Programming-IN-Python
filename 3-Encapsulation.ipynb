{
 "cells": [
  {
   "cell_type": "code",
   "execution_count": 19,
   "id": "9138facc-2030-4298-a855-8c9ac60eb780",
   "metadata": {},
   "outputs": [],
   "source": [
    "class Atm:\n",
    "    # Constructor\n",
    "    def __init__(self):\n",
    "\n",
    "        self.__pin = \"\"\n",
    "        self.__balance = 0\n",
    "\n",
    "        self.menu()\n",
    "\n",
    "    def menu(self):\n",
    "        user_input = input(\"\"\"\n",
    "                           Hello, how would you like to proceed?\n",
    "                           1. Enter 1 to create pin.\n",
    "                           2. Enter 2 to deposit.\n",
    "                           3. Enter 3 to withdraw.\n",
    "                           4. Enter 4 to check balance.\n",
    "                           5. Enter 5 to exit.\n",
    "                           \"\"\")\n",
    "        if user_input == \"1\":\n",
    "            self.create_pin()\n",
    "        elif user_input == \"2\":\n",
    "            self.deposit()\n",
    "        elif user_input == \"3\":\n",
    "            self.withdraw()\n",
    "        elif user_input == \"4\":\n",
    "            self.check_balance()\n",
    "        else:\n",
    "            print(\"Bye\")\n",
    "\n",
    "    def get_pin(self):\n",
    "        return self.__pin\n",
    "\n",
    "    def set_pin(self,new_pin):\n",
    "        if type(new_pin) == str:\n",
    "            self.__pin = new_pin\n",
    "            print(\"Print Changed\")\n",
    "        else:\n",
    "            print(\"Not allowed\")\n",
    "    def create_pin(self):\n",
    "        self.__pin = input(\"Enter your pin\")\n",
    "        print(\"Pin Set Successfully\")\n",
    "\n",
    "    def deposit(self):\n",
    "        temp = input(\"Enter your pin\")\n",
    "        if temp == self.__pin:\n",
    "            amount = int(input(\"Enter the amount\"))\n",
    "            self.__balance = self.__balance + amount\n",
    "            print(\"Deposit Successful\")\n",
    "        else:\n",
    "            print(\"Invalid PIN\")\n",
    "    \n",
    "    def withdraw(self):\n",
    "        temp = input(\"Enter your pin\")\n",
    "        if temp == self.__pin:\n",
    "            amount = int(input(\"Enter the amount\"))\n",
    "            if amount < self.__balance:\n",
    "                self.__balance = self.__balance - amount\n",
    "                print(\"Operation Successful\")\n",
    "            else:\n",
    "                print(\"Insufficient funds\")\n",
    "        else:\n",
    "                print(\"Invalid PIN\")\n",
    "    \n",
    "    def check_balance(self):\n",
    "        temp = input(\"Enter your pin\")\n",
    "        if temp == self.__pin:\n",
    "            print(self.__balance)\n",
    "        else:\n",
    "            print(\"invalid pin\")"
   ]
  },
  {
   "cell_type": "code",
   "execution_count": 20,
   "id": "3cd60af1-5fd6-4619-8c90-fa78cf159a9b",
   "metadata": {},
   "outputs": [
    {
     "name": "stdin",
     "output_type": "stream",
     "text": [
      "\n",
      "                           Hello, how would you like to proceed?\n",
      "                           1. Enter 1 to create pin.\n",
      "                           2. Enter 2 to deposit.\n",
      "                           3. Enter 3 to withdraw.\n",
      "                           4. Enter 4 to check balance.\n",
      "                           5. Enter 5 to exit.\n",
      "                            1\n",
      "Enter your pin 567108\n"
     ]
    },
    {
     "name": "stdout",
     "output_type": "stream",
     "text": [
      "Pin Set Successfully\n"
     ]
    }
   ],
   "source": [
    "sbi = Atm()"
   ]
  },
  {
   "cell_type": "code",
   "execution_count": 15,
   "id": "cf346a36-f9c4-4d4d-887c-fc6ffd0a45b1",
   "metadata": {},
   "outputs": [
    {
     "ename": "AttributeError",
     "evalue": "'Atm' object has no attribute 'pin'",
     "output_type": "error",
     "traceback": [
      "\u001b[1;31m---------------------------------------------------------------------------\u001b[0m",
      "\u001b[1;31mAttributeError\u001b[0m                            Traceback (most recent call last)",
      "Cell \u001b[1;32mIn[15], line 1\u001b[0m\n\u001b[1;32m----> 1\u001b[0m \u001b[43msbi\u001b[49m\u001b[38;5;241;43m.\u001b[39;49m\u001b[43mpin\u001b[49m \u001b[38;5;66;03m### We Successfully hid this!\u001b[39;00m\n",
      "\u001b[1;31mAttributeError\u001b[0m: 'Atm' object has no attribute 'pin'"
     ]
    }
   ],
   "source": [
    "sbi.pin ### We Successfully hid this!"
   ]
  },
  {
   "cell_type": "code",
   "execution_count": 16,
   "id": "26e94267-4115-4b53-a5ae-0663411f66f9",
   "metadata": {},
   "outputs": [
    {
     "data": {
      "text/plain": [
       "'567108'"
      ]
     },
     "execution_count": 16,
     "metadata": {},
     "output_type": "execute_result"
    }
   ],
   "source": [
    "sbi.get_pin()"
   ]
  },
  {
   "cell_type": "code",
   "execution_count": 21,
   "id": "00d3fa0e-f01b-4b47-be94-cafa43627b2d",
   "metadata": {},
   "outputs": [
    {
     "name": "stdout",
     "output_type": "stream",
     "text": [
      "Print Changed\n"
     ]
    }
   ],
   "source": [
    "sbi.set_pin('888445')"
   ]
  },
  {
   "cell_type": "code",
   "execution_count": 22,
   "id": "322af5ef-ebb0-434a-829a-d5c344101d30",
   "metadata": {},
   "outputs": [
    {
     "data": {
      "text/plain": [
       "'888445'"
      ]
     },
     "execution_count": 22,
     "metadata": {},
     "output_type": "execute_result"
    }
   ],
   "source": [
    "sbi.get_pin()"
   ]
  },
  {
   "cell_type": "code",
   "execution_count": 23,
   "id": "fa7d2316-5558-44a5-bde6-2272a2f98cdc",
   "metadata": {},
   "outputs": [
    {
     "name": "stdout",
     "output_type": "stream",
     "text": [
      "Not allowed\n"
     ]
    }
   ],
   "source": [
    "sbi.set_pin(5.6)"
   ]
  },
  {
   "cell_type": "code",
   "execution_count": 24,
   "id": "d21011e6-b1af-4837-872c-b6542070a485",
   "metadata": {},
   "outputs": [
    {
     "name": "stdout",
     "output_type": "stream",
     "text": [
      "Print Changed\n"
     ]
    }
   ],
   "source": [
    "sbi.set_pin('23456')"
   ]
  },
  {
   "cell_type": "code",
   "execution_count": null,
   "id": "5df65c46-15c5-422d-a3a2-2d27abab6c99",
   "metadata": {},
   "outputs": [],
   "source": []
  }
 ],
 "metadata": {
  "kernelspec": {
   "display_name": "Python 3 (ipykernel)",
   "language": "python",
   "name": "python3"
  },
  "language_info": {
   "codemirror_mode": {
    "name": "ipython",
    "version": 3
   },
   "file_extension": ".py",
   "mimetype": "text/x-python",
   "name": "python",
   "nbconvert_exporter": "python",
   "pygments_lexer": "ipython3",
   "version": "3.9.7"
  }
 },
 "nbformat": 4,
 "nbformat_minor": 5
}
