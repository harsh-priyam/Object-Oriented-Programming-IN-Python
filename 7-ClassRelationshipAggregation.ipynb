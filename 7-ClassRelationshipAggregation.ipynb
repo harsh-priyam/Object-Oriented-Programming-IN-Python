{
 "cells": [
  {
   "cell_type": "code",
   "execution_count": 12,
   "id": "2c0d362f-444b-480d-a67b-e472f883c76c",
   "metadata": {},
   "outputs": [
    {
     "ename": "SyntaxError",
     "evalue": "non-default argument follows default argument (1150002307.py, line 8)",
     "output_type": "error",
     "traceback": [
      "\u001b[1;36m  Cell \u001b[1;32mIn[12], line 8\u001b[1;36m\u001b[0m\n\u001b[1;33m    def edit_profile(self,new_name=self.name,new_city,new_pin,new_state):\u001b[0m\n\u001b[1;37m                                                      ^\u001b[0m\n\u001b[1;31mSyntaxError\u001b[0m\u001b[1;31m:\u001b[0m non-default argument follows default argument\n"
     ]
    }
   ],
   "source": [
    "class Customer:\n",
    "\n",
    "    def __init__(self,name,gender,address):\n",
    "        self.name = name\n",
    "        self.gender = gender\n",
    "        self.address = address\n",
    "\n",
    "    def edit_profile(self,new_name=self.name,new_city,new_pin,new_state):\n",
    "        self.name = new_name\n",
    "        self.address.change_address(new_city,new_pin,new_state)\n",
    "\n",
    "class Address:\n",
    "    def __init__(self,city,pincode,state):\n",
    "        self.city = city\n",
    "        self.pincode = pincode\n",
    "        self.state = state\n",
    "        \n",
    "    def change_address(self,new_city,new_pin,new_state):\n",
    "        self.city = new_city\n",
    "        self.pincode = new_pin\n",
    "        self.state = new_state\n",
    "\n",
    "add = Address(\"Patna\",800020,\"Bihar\")\n",
    "cust = Customer(\"Harsh Priyam\",\"Male\",add)\n",
    "\n",
    "cust.edit_profile(\"Gurgaon\",122011,\"Haryana\")\n"
   ]
  },
  {
   "cell_type": "code",
   "execution_count": 11,
   "id": "d8ebf15a-b961-43e1-9ac1-183cd8a3f4be",
   "metadata": {},
   "outputs": [
    {
     "name": "stdout",
     "output_type": "stream",
     "text": [
      "Harsh Priyam Male Patna 800020 Bihar\n"
     ]
    }
   ],
   "source": [
    "print(cust.name,cust.gender,cust.address.city,cust.address.pincode,cust.address.state)"
   ]
  },
  {
   "cell_type": "code",
   "execution_count": null,
   "id": "88a4a7fb-69a8-4a76-8f8f-359f0439fe7c",
   "metadata": {},
   "outputs": [],
   "source": []
  }
 ],
 "metadata": {
  "kernelspec": {
   "display_name": "Python 3 (ipykernel)",
   "language": "python",
   "name": "python3"
  },
  "language_info": {
   "codemirror_mode": {
    "name": "ipython",
    "version": 3
   },
   "file_extension": ".py",
   "mimetype": "text/x-python",
   "name": "python",
   "nbconvert_exporter": "python",
   "pygments_lexer": "ipython3",
   "version": "3.9.7"
  }
 },
 "nbformat": 4,
 "nbformat_minor": 5
}
