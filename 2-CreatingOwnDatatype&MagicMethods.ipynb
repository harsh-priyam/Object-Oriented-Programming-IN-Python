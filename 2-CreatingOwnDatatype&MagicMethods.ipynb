{
 "cells": [
  {
   "cell_type": "code",
   "execution_count": 52,
   "id": "d5a61ab5-4988-4153-b85b-46917e526477",
   "metadata": {},
   "outputs": [],
   "source": [
    "class Fraction:\n",
    "    def __init__(self,n,d):\n",
    "        self.num = n\n",
    "        self.den = d\n",
    "\n",
    "    def __str__(self):\n",
    "        return \"{}/{}\".format(self.num,self.den)\n",
    "\n",
    "    def __add__(self,other):\n",
    "        temp_num = self.num*other.den + other.num*self.den\n",
    "        temp_den = self.den*other.den\n",
    "\n",
    "    def __sub__(self,other):\n",
    "        temp_num = self.num*other.den - other.num*self.den\n",
    "        temp_den = self.den*other.den\n",
    "\n",
    "        return \"{}/{}\".format(temp_num,temp_den)\n",
    "\n",
    "    def __mul__(self,other):\n",
    "        temp_num = self.num*other.num\n",
    "        temp_den = self.den*other.den\n",
    "\n",
    "        return \"{}/{}\".format(temp_num,temp_den)\n",
    "\n",
    "    def __truediv__(self,other):\n",
    "        temp_num = self.num*other.den\n",
    "        temp_den = self.den*other.num\n",
    "\n",
    "        return \"{}/{}\".format(temp_num,temp_den)"
   ]
  },
  {
   "cell_type": "code",
   "execution_count": 53,
   "id": "8a689cea-c182-469c-affa-855ad7f82c5e",
   "metadata": {},
   "outputs": [],
   "source": [
    "x = Fraction(4,5)\n",
    "y = Fraction(3,6)"
   ]
  },
  {
   "cell_type": "code",
   "execution_count": 47,
   "id": "3dc764d0-2465-4256-9007-ad6ecb06bb70",
   "metadata": {},
   "outputs": [
    {
     "data": {
      "text/plain": [
       "__main__.Fraction"
      ]
     },
     "execution_count": 47,
     "metadata": {},
     "output_type": "execute_result"
    }
   ],
   "source": [
    "type(x)"
   ]
  },
  {
   "cell_type": "code",
   "execution_count": 35,
   "id": "d29dc683-e334-4acc-b4ae-2c62ec1310dc",
   "metadata": {},
   "outputs": [],
   "source": [
    "arr = [1,2,4,x]"
   ]
  },
  {
   "cell_type": "code",
   "execution_count": 39,
   "id": "3eecbc16-54a0-4b7e-91b0-b3f1936db9e8",
   "metadata": {},
   "outputs": [
    {
     "data": {
      "text/plain": [
       "[1, 2, 4, <__main__.Fraction at 0x2979ba050a0>]"
      ]
     },
     "execution_count": 39,
     "metadata": {},
     "output_type": "execute_result"
    }
   ],
   "source": [
    "arr"
   ]
  },
  {
   "cell_type": "code",
   "execution_count": 41,
   "id": "615991f6-10d5-458e-af3b-6ab50302a087",
   "metadata": {},
   "outputs": [
    {
     "name": "stdout",
     "output_type": "stream",
     "text": [
      "4/5\n"
     ]
    }
   ],
   "source": [
    "print(x)"
   ]
  },
  {
   "cell_type": "code",
   "execution_count": 42,
   "id": "ed6367d8-7a1f-448b-a388-c60c3da5fe2e",
   "metadata": {},
   "outputs": [
    {
     "name": "stdout",
     "output_type": "stream",
     "text": [
      "3/6\n"
     ]
    }
   ],
   "source": [
    "print(y)"
   ]
  },
  {
   "cell_type": "code",
   "execution_count": 38,
   "id": "b8490c4b-4ade-4a77-8bf4-ea14b438f5c0",
   "metadata": {},
   "outputs": [
    {
     "name": "stdout",
     "output_type": "stream",
     "text": [
      "39/30\n"
     ]
    }
   ],
   "source": [
    "print(x+y)"
   ]
  },
  {
   "cell_type": "code",
   "execution_count": 48,
   "id": "91cbfcfc-da43-4b27-b5a2-b409c8dc4062",
   "metadata": {},
   "outputs": [
    {
     "name": "stdout",
     "output_type": "stream",
     "text": [
      "9/30\n"
     ]
    }
   ],
   "source": [
    "print(x-y)"
   ]
  },
  {
   "cell_type": "code",
   "execution_count": 49,
   "id": "1128e559-d131-4669-9464-524c56fc21e8",
   "metadata": {},
   "outputs": [
    {
     "name": "stdout",
     "output_type": "stream",
     "text": [
      "12/30\n"
     ]
    }
   ],
   "source": [
    "print(x*y)"
   ]
  },
  {
   "cell_type": "code",
   "execution_count": 55,
   "id": "4d49be52-0a1c-4b1a-8930-e7d421d3502c",
   "metadata": {},
   "outputs": [
    {
     "name": "stdout",
     "output_type": "stream",
     "text": [
      "24/15\n"
     ]
    }
   ],
   "source": [
    "print(x/y)"
   ]
  },
  {
   "cell_type": "code",
   "execution_count": null,
   "id": "a5d494a7-20ab-4474-a9b0-c6e2b7399322",
   "metadata": {},
   "outputs": [],
   "source": []
  }
 ],
 "metadata": {
  "kernelspec": {
   "display_name": "Python 3 (ipykernel)",
   "language": "python",
   "name": "python3"
  },
  "language_info": {
   "codemirror_mode": {
    "name": "ipython",
    "version": 3
   },
   "file_extension": ".py",
   "mimetype": "text/x-python",
   "name": "python",
   "nbconvert_exporter": "python",
   "pygments_lexer": "ipython3",
   "version": "3.9.7"
  }
 },
 "nbformat": 4,
 "nbformat_minor": 5
}
