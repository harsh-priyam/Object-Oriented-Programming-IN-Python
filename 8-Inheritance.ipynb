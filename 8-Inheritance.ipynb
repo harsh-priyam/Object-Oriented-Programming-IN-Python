{
 "cells": [
  {
   "cell_type": "code",
   "execution_count": 10,
   "id": "f25a234a-1e21-4df0-821f-6bd1b729018e",
   "metadata": {},
   "outputs": [],
   "source": [
    "class User:\n",
    "\n",
    "    def login(self):\n",
    "        print(\"Login\")\n",
    "        \n",
    "    def register(self):\n",
    "        print(\"Register\")\n",
    "\n",
    "class Student(User):\n",
    "    def enroll(self):\n",
    "        print(\"Enroll\")\n",
    "\n",
    "    def review(self):\n",
    "        print(\"Review\")\n",
    "        "
   ]
  },
  {
   "cell_type": "code",
   "execution_count": 2,
   "id": "d01687ea-9872-4b48-a32b-7550a765a4cc",
   "metadata": {},
   "outputs": [],
   "source": [
    "stu1 = Student()"
   ]
  },
  {
   "cell_type": "code",
   "execution_count": 3,
   "id": "72ef621f-d481-4219-bbf7-f0efc6b54bed",
   "metadata": {},
   "outputs": [
    {
     "name": "stdout",
     "output_type": "stream",
     "text": [
      "Enroll\n"
     ]
    }
   ],
   "source": [
    "stu1.enroll()"
   ]
  },
  {
   "cell_type": "code",
   "execution_count": 4,
   "id": "de5e1379-3a1a-4502-9cd9-491fd0e48b4e",
   "metadata": {},
   "outputs": [
    {
     "name": "stdout",
     "output_type": "stream",
     "text": [
      "Review\n"
     ]
    }
   ],
   "source": [
    "stu1.review()"
   ]
  },
  {
   "cell_type": "code",
   "execution_count": 6,
   "id": "78540c38-78ae-46fc-9478-71a2a652b1b0",
   "metadata": {},
   "outputs": [
    {
     "name": "stdout",
     "output_type": "stream",
     "text": [
      "Login\n"
     ]
    }
   ],
   "source": [
    "stu1.login()"
   ]
  },
  {
   "cell_type": "code",
   "execution_count": 7,
   "id": "10588045-8bd2-41e0-a78e-1cf7394285b1",
   "metadata": {},
   "outputs": [
    {
     "name": "stdout",
     "output_type": "stream",
     "text": [
      "Register\n"
     ]
    }
   ],
   "source": [
    "stu1.register()"
   ]
  },
  {
   "cell_type": "code",
   "execution_count": 8,
   "id": "28e0829b-d512-4769-b6b6-bf9e441e2408",
   "metadata": {},
   "outputs": [],
   "source": [
    "u = User()"
   ]
  },
  {
   "cell_type": "code",
   "execution_count": 9,
   "id": "5f520e71-4905-4296-b00c-d8ddcb8fd1e9",
   "metadata": {},
   "outputs": [
    {
     "ename": "AttributeError",
     "evalue": "'User' object has no attribute 'enroll'",
     "output_type": "error",
     "traceback": [
      "\u001b[1;31m---------------------------------------------------------------------------\u001b[0m",
      "\u001b[1;31mAttributeError\u001b[0m                            Traceback (most recent call last)",
      "Cell \u001b[1;32mIn[9], line 1\u001b[0m\n\u001b[1;32m----> 1\u001b[0m \u001b[43mu\u001b[49m\u001b[38;5;241;43m.\u001b[39;49m\u001b[43menroll\u001b[49m()\n",
      "\u001b[1;31mAttributeError\u001b[0m: 'User' object has no attribute 'enroll'"
     ]
    }
   ],
   "source": [
    "u.enroll()"
   ]
  },
  {
   "cell_type": "code",
   "execution_count": 11,
   "id": "d124e0e5-0203-47e5-8f6a-122d30c08fb8",
   "metadata": {},
   "outputs": [],
   "source": [
    "# EXAMPLE -: 2"
   ]
  },
  {
   "cell_type": "code",
   "execution_count": 12,
   "id": "cf7a3622-63cb-4f95-b51a-6272413fd668",
   "metadata": {},
   "outputs": [
    {
     "name": "stdout",
     "output_type": "stream",
     "text": [
      "Inside phone constructor\n"
     ]
    }
   ],
   "source": [
    "class Phone:\n",
    "    def __init__(self,price,brand,camera):\n",
    "        print(\"Inside phone constructor\")\n",
    "        self.price = price\n",
    "        self.brand = brand\n",
    "        self.camera = camera\n",
    "\n",
    "class SmartPhone(Phone):\n",
    "    pass\n",
    "\n",
    "s = SmartPhone(200000,\"Apple\",13)\n"
   ]
  },
  {
   "cell_type": "code",
   "execution_count": 13,
   "id": "f975157f-b279-4e5a-943e-f74439960ccc",
   "metadata": {},
   "outputs": [],
   "source": [
    "# EXAMPLE -: 3"
   ]
  },
  {
   "cell_type": "code",
   "execution_count": 16,
   "id": "d7f6396b-4fbd-4305-94a1-56403aaf3f2e",
   "metadata": {},
   "outputs": [
    {
     "name": "stdout",
     "output_type": "stream",
     "text": [
      "Inside phone constructor\n"
     ]
    },
    {
     "ename": "AttributeError",
     "evalue": "'SmartPhone' object has no attribute '__brand'",
     "output_type": "error",
     "traceback": [
      "\u001b[1;31m---------------------------------------------------------------------------\u001b[0m",
      "\u001b[1;31mAttributeError\u001b[0m                            Traceback (most recent call last)",
      "Cell \u001b[1;32mIn[16], line 12\u001b[0m\n\u001b[0;32m      9\u001b[0m     \u001b[38;5;28;01mpass\u001b[39;00m\n\u001b[0;32m     11\u001b[0m s \u001b[38;5;241m=\u001b[39m SmartPhone(\u001b[38;5;241m200000\u001b[39m,\u001b[38;5;124m\"\u001b[39m\u001b[38;5;124mApple\u001b[39m\u001b[38;5;124m\"\u001b[39m,\u001b[38;5;241m13\u001b[39m)\n\u001b[1;32m---> 12\u001b[0m \u001b[38;5;28mprint\u001b[39m(\u001b[43ms\u001b[49m\u001b[38;5;241;43m.\u001b[39;49m\u001b[43m__brand\u001b[49m)\n",
      "\u001b[1;31mAttributeError\u001b[0m: 'SmartPhone' object has no attribute '__brand'"
     ]
    }
   ],
   "source": [
    "class Phone:\n",
    "    def __init__(self,price,brand,camera):\n",
    "        print(\"Inside phone constructor\")\n",
    "        self.price = price\n",
    "        self.__brand = brand\n",
    "        self.camera = camera\n",
    "\n",
    "class SmartPhone(Phone):\n",
    "    pass\n",
    "\n",
    "s = SmartPhone(200000,\"Apple\",13)\n",
    "print(s.__brand)"
   ]
  },
  {
   "cell_type": "code",
   "execution_count": null,
   "id": "ef80643a-125f-428d-8470-5e37f785ce74",
   "metadata": {},
   "outputs": [],
   "source": []
  }
 ],
 "metadata": {
  "kernelspec": {
   "display_name": "Python 3 (ipykernel)",
   "language": "python",
   "name": "python3"
  },
  "language_info": {
   "codemirror_mode": {
    "name": "ipython",
    "version": 3
   },
   "file_extension": ".py",
   "mimetype": "text/x-python",
   "name": "python",
   "nbconvert_exporter": "python",
   "pygments_lexer": "ipython3",
   "version": "3.9.7"
  }
 },
 "nbformat": 4,
 "nbformat_minor": 5
}
